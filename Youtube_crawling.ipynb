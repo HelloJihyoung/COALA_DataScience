{
 "cells": [
  {
   "cell_type": "markdown",
   "metadata": {},
   "source": [
    "# 유튜브에서 영상 관련 데이터 가져오기\n",
    "## 썸네일 링크, 카테고리, 제목, 영상 길이, 조회수, 업로드 날짜, 좋아요수, 싫어요수"
   ]
  },
  {
   "cell_type": "code",
   "execution_count": 11,
   "metadata": {},
   "outputs": [],
   "source": [
    "import requests\n",
    "from bs4 import BeautifulSoup\n",
    "import time\n",
    "from selenium.webdriver import Chrome\n",
    "import re\n",
    "from selenium.webdriver.chrome.options import Options\n",
    "from selenium.webdriver.common.keys import Keys\n",
    "import datetime as dt\n",
    "\n",
    "delay = 3\n",
    "browser = Chrome(\"./chromedriver\")\n",
    "browser.implicitly_wait(delay)\n",
    "browser.get(\"https://www.youtube.com/channel/UCuZu8NrpBG4WPXRi-hPBl-A/videos\") # 유튜버의 동영상 페이지로 들어가기\n",
    "browser.maximize_window()\n",
    "body = browser.find_element_by_tag_name('body') # body태그 가져오기\n",
    "\n",
    "num_of_pagedowns = 22 # 스크롤\n",
    "while num_of_pagedowns:\n",
    "    body.send_keys(Keys.PAGE_DOWN)\n",
    "    time.sleep(2)\n",
    "    num_of_pagedowns -= 1 #video페이지의 스크롤을 충분히 밑으로 내려놓기"
   ]
  },
  {
   "cell_type": "code",
   "execution_count": 12,
   "metadata": {},
   "outputs": [
    {
     "name": "stdout",
     "output_type": "stream",
     "text": [
      "video_list2의 길이: 90\n"
     ]
    }
   ],
   "source": [
    "html0 = browser.page_source\n",
    "html = BeautifulSoup(html0, 'html.parser')\n",
    "video_list2 = html.select('div #dismissable') # 정보가 담겨있는 태그\n",
    "\n",
    "youtube_url = 'http://www.youtube.com'\n",
    "\n",
    "park_url = []\n",
    "\n",
    "#썸네일, 유형, 동영상 게시일, 영상길이, 제목, 조회수, 좋아요, 싫어요 를 저장하기 위한 리스트\n",
    "thumbnail_list = []\n",
    "category_list = []\n",
    "upload_date_list = []\n",
    "video_length_list = []\n",
    "title_list = []\n",
    "view_count_list = []\n",
    "likes_count_list = []\n",
    "dislikes_count_list = []\n",
    "\n",
    "print(\"video_list2의 길이:\",len(video_list2)) # 동영상 개수를 출력\n",
    "\n",
    "for i in range(len(video_list2)):\n",
    "    url = youtube_url + video_list2[i].find('a',{'id': 'thumbnail'})['href']\n",
    "    park_url.append(url) # 모든 영상의 url을 youtube_url에 붙여서 완전한 url로 만들고 park_url이라는 리스트에 넣어줌"
   ]
  },
  {
   "cell_type": "markdown",
   "metadata": {},
   "source": [
    "### 영상 길이 가져오기"
   ]
  },
  {
   "cell_type": "code",
   "execution_count": 13,
   "metadata": {},
   "outputs": [
    {
     "name": "stdout",
     "output_type": "stream",
     "text": [
      "21:09\n",
      "31:17\n",
      "31:18\n",
      "31:37\n",
      "24:31\n",
      "23:00\n",
      "27:04\n",
      "32:43\n",
      "21:23\n",
      "20:24\n",
      "22:33\n",
      "28:12\n",
      "22:42\n",
      "5:33\n",
      "20:01\n",
      "14:16\n",
      "12:50\n",
      "31:51\n",
      "17:45\n",
      "31:02\n",
      "23:27\n",
      "32:03\n",
      "7:52\n",
      "23:06\n",
      "11:12\n",
      "21:59\n",
      "16:56\n",
      "34:03\n",
      "23:29\n",
      "21:16\n",
      "21:04\n",
      "23:01\n",
      "20:36\n",
      "30:50\n",
      "26:15\n",
      "30:53\n",
      "22:40\n",
      "33:22\n",
      "25:17\n",
      "22:29\n",
      "22:06\n",
      "18:58\n",
      "22:08\n",
      "16:49\n",
      "34:49\n",
      "16:20\n",
      "32:39\n",
      "8:48\n",
      "24:37\n",
      "36:44\n",
      "19:28\n",
      "33:38\n",
      "31:56\n",
      "17:45\n",
      "33:01\n",
      "21:19\n",
      "23:21\n",
      "16:30\n",
      "15:14\n",
      "32:06\n",
      "27:57\n",
      "32:03\n",
      "30:51\n",
      "32:27\n",
      "16:25\n",
      "22:16\n",
      "22:28\n",
      "33:25\n",
      "29:36\n",
      "22:28\n",
      "21:45\n",
      "32:22\n",
      "25:41\n",
      "31:33\n",
      "23:54\n",
      "21:31\n",
      "31:54\n",
      "21:01\n",
      "24:38\n",
      "3:58\n",
      "28:57\n",
      "19:44\n",
      "32:35\n",
      "27:32\n",
      "24:03\n",
      "34:18\n",
      "5:50\n",
      "23:24\n",
      "29:05\n",
      "21:08\n"
     ]
    }
   ],
   "source": [
    "for video in video_list2: \n",
    "    video_length = video.select_one(\"ytd-thumbnail-overlay-time-status-renderer.ytd-thumbnail > span.style-scope\")\n",
    "    video_length = video_length.text.replace(\"\\n\",\"\").strip()\n",
    "    video_length_list.append(video_length)\n",
    "    print(video_length)"
   ]
  },
  {
   "cell_type": "markdown",
   "metadata": {},
   "source": [
    "### 나머지 데이터 가져오기\n",
    "#### try except 문을 사용하여 예외처리 해주기 _ 해당 태그가 공백인 경우\n",
    "#### ex) 좋아요 수 비공개, 더보기란 공란"
   ]
  },
  {
   "cell_type": "code",
   "execution_count": 14,
   "metadata": {},
   "outputs": [
    {
     "ename": "NoSuchElementException",
     "evalue": "Message: no such element: Unable to locate element: {\"method\":\"xpath\",\"selector\":\"//*[@id='more']/yt-formatted-string\"}\n  (Session info: chrome=79.0.3945.117)\n",
     "output_type": "error",
     "traceback": [
      "\u001b[1;31m---------------------------------------------------------------------------\u001b[0m",
      "\u001b[1;31mNoSuchElementException\u001b[0m                    Traceback (most recent call last)",
      "\u001b[1;32m<ipython-input-14-24f5e7891f61>\u001b[0m in \u001b[0;36m<module>\u001b[1;34m\u001b[0m\n\u001b[0;32m     12\u001b[0m         \u001b[0mtime\u001b[0m\u001b[1;33m.\u001b[0m\u001b[0msleep\u001b[0m\u001b[1;33m(\u001b[0m\u001b[1;36m1.5\u001b[0m\u001b[1;33m)\u001b[0m \u001b[1;31m# 페이지를 넘어가야하므로 로딩 대기시간\u001b[0m\u001b[1;33m\u001b[0m\u001b[1;33m\u001b[0m\u001b[0m\n\u001b[0;32m     13\u001b[0m \u001b[1;33m\u001b[0m\u001b[0m\n\u001b[1;32m---> 14\u001b[1;33m         \u001b[0mbrowser\u001b[0m\u001b[1;33m.\u001b[0m\u001b[0mfind_element_by_xpath\u001b[0m\u001b[1;33m(\u001b[0m\u001b[1;34m\"//*[@id='more']/yt-formatted-string\"\u001b[0m\u001b[1;33m)\u001b[0m\u001b[1;33m.\u001b[0m\u001b[0mclick\u001b[0m\u001b[1;33m(\u001b[0m\u001b[1;33m)\u001b[0m \u001b[1;31m# 카테고리를 크롤링 하기 위해서 더보기 버튼 클릭\u001b[0m\u001b[1;33m\u001b[0m\u001b[1;33m\u001b[0m\u001b[0m\n\u001b[0m\u001b[0;32m     15\u001b[0m         \u001b[0mtime\u001b[0m\u001b[1;33m.\u001b[0m\u001b[0msleep\u001b[0m\u001b[1;33m(\u001b[0m\u001b[1;36m3\u001b[0m\u001b[1;33m)\u001b[0m\u001b[1;33m\u001b[0m\u001b[1;33m\u001b[0m\u001b[0m\n\u001b[0;32m     16\u001b[0m         \u001b[0mhtml0\u001b[0m \u001b[1;33m=\u001b[0m \u001b[0mbrowser\u001b[0m\u001b[1;33m.\u001b[0m\u001b[0mpage_source\u001b[0m\u001b[1;33m\u001b[0m\u001b[1;33m\u001b[0m\u001b[0m\n",
      "\u001b[1;32m~\\Anaconda3\\lib\\site-packages\\selenium\\webdriver\\remote\\webdriver.py\u001b[0m in \u001b[0;36mfind_element_by_xpath\u001b[1;34m(self, xpath)\u001b[0m\n\u001b[0;32m    392\u001b[0m             \u001b[0melement\u001b[0m \u001b[1;33m=\u001b[0m \u001b[0mdriver\u001b[0m\u001b[1;33m.\u001b[0m\u001b[0mfind_element_by_xpath\u001b[0m\u001b[1;33m(\u001b[0m\u001b[1;34m'//div/td[1]'\u001b[0m\u001b[1;33m)\u001b[0m\u001b[1;33m\u001b[0m\u001b[1;33m\u001b[0m\u001b[0m\n\u001b[0;32m    393\u001b[0m         \"\"\"\n\u001b[1;32m--> 394\u001b[1;33m         \u001b[1;32mreturn\u001b[0m \u001b[0mself\u001b[0m\u001b[1;33m.\u001b[0m\u001b[0mfind_element\u001b[0m\u001b[1;33m(\u001b[0m\u001b[0mby\u001b[0m\u001b[1;33m=\u001b[0m\u001b[0mBy\u001b[0m\u001b[1;33m.\u001b[0m\u001b[0mXPATH\u001b[0m\u001b[1;33m,\u001b[0m \u001b[0mvalue\u001b[0m\u001b[1;33m=\u001b[0m\u001b[0mxpath\u001b[0m\u001b[1;33m)\u001b[0m\u001b[1;33m\u001b[0m\u001b[1;33m\u001b[0m\u001b[0m\n\u001b[0m\u001b[0;32m    395\u001b[0m \u001b[1;33m\u001b[0m\u001b[0m\n\u001b[0;32m    396\u001b[0m     \u001b[1;32mdef\u001b[0m \u001b[0mfind_elements_by_xpath\u001b[0m\u001b[1;33m(\u001b[0m\u001b[0mself\u001b[0m\u001b[1;33m,\u001b[0m \u001b[0mxpath\u001b[0m\u001b[1;33m)\u001b[0m\u001b[1;33m:\u001b[0m\u001b[1;33m\u001b[0m\u001b[1;33m\u001b[0m\u001b[0m\n",
      "\u001b[1;32m~\\Anaconda3\\lib\\site-packages\\selenium\\webdriver\\remote\\webdriver.py\u001b[0m in \u001b[0;36mfind_element\u001b[1;34m(self, by, value)\u001b[0m\n\u001b[0;32m    976\u001b[0m         return self.execute(Command.FIND_ELEMENT, {\n\u001b[0;32m    977\u001b[0m             \u001b[1;34m'using'\u001b[0m\u001b[1;33m:\u001b[0m \u001b[0mby\u001b[0m\u001b[1;33m,\u001b[0m\u001b[1;33m\u001b[0m\u001b[1;33m\u001b[0m\u001b[0m\n\u001b[1;32m--> 978\u001b[1;33m             'value': value})['value']\n\u001b[0m\u001b[0;32m    979\u001b[0m \u001b[1;33m\u001b[0m\u001b[0m\n\u001b[0;32m    980\u001b[0m     \u001b[1;32mdef\u001b[0m \u001b[0mfind_elements\u001b[0m\u001b[1;33m(\u001b[0m\u001b[0mself\u001b[0m\u001b[1;33m,\u001b[0m \u001b[0mby\u001b[0m\u001b[1;33m=\u001b[0m\u001b[0mBy\u001b[0m\u001b[1;33m.\u001b[0m\u001b[0mID\u001b[0m\u001b[1;33m,\u001b[0m \u001b[0mvalue\u001b[0m\u001b[1;33m=\u001b[0m\u001b[1;32mNone\u001b[0m\u001b[1;33m)\u001b[0m\u001b[1;33m:\u001b[0m\u001b[1;33m\u001b[0m\u001b[1;33m\u001b[0m\u001b[0m\n",
      "\u001b[1;32m~\\Anaconda3\\lib\\site-packages\\selenium\\webdriver\\remote\\webdriver.py\u001b[0m in \u001b[0;36mexecute\u001b[1;34m(self, driver_command, params)\u001b[0m\n\u001b[0;32m    319\u001b[0m         \u001b[0mresponse\u001b[0m \u001b[1;33m=\u001b[0m \u001b[0mself\u001b[0m\u001b[1;33m.\u001b[0m\u001b[0mcommand_executor\u001b[0m\u001b[1;33m.\u001b[0m\u001b[0mexecute\u001b[0m\u001b[1;33m(\u001b[0m\u001b[0mdriver_command\u001b[0m\u001b[1;33m,\u001b[0m \u001b[0mparams\u001b[0m\u001b[1;33m)\u001b[0m\u001b[1;33m\u001b[0m\u001b[1;33m\u001b[0m\u001b[0m\n\u001b[0;32m    320\u001b[0m         \u001b[1;32mif\u001b[0m \u001b[0mresponse\u001b[0m\u001b[1;33m:\u001b[0m\u001b[1;33m\u001b[0m\u001b[1;33m\u001b[0m\u001b[0m\n\u001b[1;32m--> 321\u001b[1;33m             \u001b[0mself\u001b[0m\u001b[1;33m.\u001b[0m\u001b[0merror_handler\u001b[0m\u001b[1;33m.\u001b[0m\u001b[0mcheck_response\u001b[0m\u001b[1;33m(\u001b[0m\u001b[0mresponse\u001b[0m\u001b[1;33m)\u001b[0m\u001b[1;33m\u001b[0m\u001b[1;33m\u001b[0m\u001b[0m\n\u001b[0m\u001b[0;32m    322\u001b[0m             response['value'] = self._unwrap_value(\n\u001b[0;32m    323\u001b[0m                 response.get('value', None))\n",
      "\u001b[1;32m~\\Anaconda3\\lib\\site-packages\\selenium\\webdriver\\remote\\errorhandler.py\u001b[0m in \u001b[0;36mcheck_response\u001b[1;34m(self, response)\u001b[0m\n\u001b[0;32m    240\u001b[0m                 \u001b[0malert_text\u001b[0m \u001b[1;33m=\u001b[0m \u001b[0mvalue\u001b[0m\u001b[1;33m[\u001b[0m\u001b[1;34m'alert'\u001b[0m\u001b[1;33m]\u001b[0m\u001b[1;33m.\u001b[0m\u001b[0mget\u001b[0m\u001b[1;33m(\u001b[0m\u001b[1;34m'text'\u001b[0m\u001b[1;33m)\u001b[0m\u001b[1;33m\u001b[0m\u001b[1;33m\u001b[0m\u001b[0m\n\u001b[0;32m    241\u001b[0m             \u001b[1;32mraise\u001b[0m \u001b[0mexception_class\u001b[0m\u001b[1;33m(\u001b[0m\u001b[0mmessage\u001b[0m\u001b[1;33m,\u001b[0m \u001b[0mscreen\u001b[0m\u001b[1;33m,\u001b[0m \u001b[0mstacktrace\u001b[0m\u001b[1;33m,\u001b[0m \u001b[0malert_text\u001b[0m\u001b[1;33m)\u001b[0m\u001b[1;33m\u001b[0m\u001b[1;33m\u001b[0m\u001b[0m\n\u001b[1;32m--> 242\u001b[1;33m         \u001b[1;32mraise\u001b[0m \u001b[0mexception_class\u001b[0m\u001b[1;33m(\u001b[0m\u001b[0mmessage\u001b[0m\u001b[1;33m,\u001b[0m \u001b[0mscreen\u001b[0m\u001b[1;33m,\u001b[0m \u001b[0mstacktrace\u001b[0m\u001b[1;33m)\u001b[0m\u001b[1;33m\u001b[0m\u001b[1;33m\u001b[0m\u001b[0m\n\u001b[0m\u001b[0;32m    243\u001b[0m \u001b[1;33m\u001b[0m\u001b[0m\n\u001b[0;32m    244\u001b[0m     \u001b[1;32mdef\u001b[0m \u001b[0m_value_or_default\u001b[0m\u001b[1;33m(\u001b[0m\u001b[0mself\u001b[0m\u001b[1;33m,\u001b[0m \u001b[0mobj\u001b[0m\u001b[1;33m,\u001b[0m \u001b[0mkey\u001b[0m\u001b[1;33m,\u001b[0m \u001b[0mdefault\u001b[0m\u001b[1;33m)\u001b[0m\u001b[1;33m:\u001b[0m\u001b[1;33m\u001b[0m\u001b[1;33m\u001b[0m\u001b[0m\n",
      "\u001b[1;31mNoSuchElementException\u001b[0m: Message: no such element: Unable to locate element: {\"method\":\"xpath\",\"selector\":\"//*[@id='more']/yt-formatted-string\"}\n  (Session info: chrome=79.0.3945.117)\n"
     ]
    }
   ],
   "source": [
    "from selenium.common.exceptions import ElementNotInteractableException\n",
    "\n",
    "for i in range(len(video_list2)):\n",
    "    try:\n",
    "        # video페이지에서 수집할 수 있는 썸네일, 제목을 가져오기\n",
    "        thumbnail = video_list2[i].find('a',{'id':'thumbnail'}).find('img')['src'] # 그 하위의 img라는 태그를 찾고 거기서 src링크 가져오기 # 1\n",
    "        title = video_list2[i].find('a',{'id':'video-title'}).text \n",
    "\n",
    "        # 다음 영상을 클릭해서 들어간 페이지 \n",
    "        click_url = park_url[i]\n",
    "        browser.get(click_url)\n",
    "        time.sleep(1.5) # 페이지를 넘어가야하므로 로딩 대기시간\n",
    "        \n",
    "        browser.find_element_by_xpath(\"//*[@id='more']/yt-formatted-string\").click() # 카테고리를 크롤링 하기 위해서 더보기 버튼 클릭\n",
    "        time.sleep(3)\n",
    "        html0 = browser.page_source\n",
    "        html = BeautifulSoup(html0, 'html.parser')\n",
    "\n",
    "        # 카테고리, 조회수, 좋아요, 싫어요, 영상길이, 동영상 게시일을 크롤링 \n",
    "        category = html.find('div', {'id':'collapsible'}).find('a',{'class':'yt-simple-endpoint'}).text\n",
    "        view_count = html.find('span', {'class': 'view-count'}).text \n",
    "        # <파이썬 정규 표현식을 지원하는 >re모듈을 이용\n",
    "        likes_count = html.find('yt-formatted-string', {'id':'text', 'class':'style-scope ytd-toggle-button-renderer style-text', 'aria-label':re.compile('좋아요')}).text \n",
    "        dislikes_count = html.find('yt-formatted-string', {'id':'text', 'class':'style-scope ytd-toggle-button-renderer style-text', 'aria-label':re.compile('싫어요')}).text \n",
    "        upload_date = html.find('div',{'id':'date'}).find('yt-formatted-string').text \n",
    "        print(i,\".\",\"썸네일\", thumbnail, \"제목:\", title, \"카테고리\",category,\"조회수\",view_count,\"좋아요수\",likes_count, \"싫어요수\",dislikes_count, \"게시일\", upload_date)\n",
    "   \n",
    "    \n",
    "    except ElementNotInteractableException: # 더보기 란이 없을 경우 예외처리\n",
    "\n",
    "        thumbnail = video_list2[i].find('a',{'id':'thumbnail'}).find('img')['src'] # 그 하위의 img라는 태그를 또 찾고 거기서 src가져오기 \n",
    "        title = video_list2[i].find('a',{'id':'video-title'}).text \n",
    "\n",
    "        # 다음 영상을 클릭해서 들어간 페이지 \n",
    "        click_url = park_url[i]\n",
    "        browser.get(click_url)\n",
    "        time.sleep(1.5) # 페이지를 넘어가야하므로 로딩 대기시간\n",
    "        \n",
    "        time.sleep(3)\n",
    "        html0 = browser.page_source\n",
    "        html = BeautifulSoup(html0, 'html.parser')\n",
    "\n",
    "        # 카테고리, 조회수, 좋아요, 싫어요, 영상길이, 동영상 게시일을 크롤링\n",
    "        category = html.select_one(\"div#always-shown div#content a.style-scope\")\n",
    "        view_count = html.find('span', {'class': 'view-count'}).text \n",
    "        # <파이썬 정규 표현식을 지원하는 >re모듈을 이용\n",
    "        likes_count = html.find('yt-formatted-string', {'id':'text', 'class':'style-scope ytd-toggle-button-renderer style-text', 'aria-label':re.compile('좋아요')}).text\n",
    "        dislikes_count = html.find('yt-formatted-string', {'id':'text', 'class':'style-scope ytd-toggle-button-renderer style-text', 'aria-label':re.compile('싫어요')}).text\n",
    "        upload_date = html.find('div',{'id':'date'}).find('yt-formatted-string').text # 8\n",
    "\n",
    "        print(i,\".\",\"썸네일\", thumbnail, \"제목:\", title, \"카테고리\",category,\"조회수\",view_count,\"좋아요수\",likes_count, \"싫어요수\",dislikes_count, \"게시일\", upload_date)\n",
    "\n",
    "    except AttributeError: # 좋아요 싫어요 수가 비공개일 경우 예외처리 _ \n",
    "        \n",
    "        thumbnail = video_list2[i].find('a',{'id':'thumbnail'}).find('img')['src'] # 그 하위의 img라는 태그를 또 찾고 거기서 src가져와라 # 1\n",
    "        title = video_list2[i].find('a',{'id':'video-title'}).text # 2 \n",
    "\n",
    "        # 여기서부터 영상 클릭해서 들어간 페이지\n",
    "        click_url = park_url[i]\n",
    "        browser.get(click_url)\n",
    "        time.sleep(1.5) # 페이지를 넘어가야하므로 로딩을 기다려야함\n",
    "        # body = browser.find_element_by_tag_name('body')\n",
    "        browser.find_element_by_xpath(\"//*[@id='more']/yt-formatted-string\").click() # 카테고리를 크롤링 하기 위해서 더보기를 눌러주자\n",
    "        time.sleep(3)\n",
    "        html0 = browser.page_source\n",
    "        html = BeautifulSoup(html0, 'html.parser')\n",
    "\n",
    "        # 카테고리, 조회수, 좋아요, 싫어요, 영상길이, 동영상 게시일을 크롤링\n",
    "        category = html.find('div', {'id':'collapsible'}).find('a',{'class':'yt-simple-endpoint'}).text\n",
    "        view_count = html.find('span', {'class': 'view-count'}).text\n",
    "\n",
    "        # 좋아요, 싫어요 수 비공개이기 때문에 0 으로 설정 (나중에 데이터 처리할 때 평균값으로 대체)\n",
    "        likes_count = \"0\"\n",
    "        dislikes_count = \"0\"\n",
    "        upload_date = html.find('div',{'id':'date'}).find('yt-formatted-string').text\n",
    "        \n",
    "        print(i,\".\",\"썸네일\", thumbnail, \"제목:\", title, \"카테고리\",category,\"조회수\",view_count,\"좋아요수\",likes_count, \"싫어요수\",dislikes_count, \"게시일\", upload_date)\n",
    "    \n",
    "    \n",
    "    finally:    \n",
    "        thumbnail_list.append(thumbnail)\n",
    "        title_list.append(title)\n",
    "        category_list.append(category)\n",
    "        view_count_list.append(view_count)\n",
    "        likes_count_list.append(likes_count)\n",
    "        dislikes_count_list.append(dislikes_count)\n",
    "        upload_date_list.append(upload_date)"
   ]
  },
  {
   "cell_type": "code",
   "execution_count": null,
   "metadata": {},
   "outputs": [],
   "source": [
    "print(len(thumbnail_list),len(video_length_list),len(title_list))\n",
    "import copy\n",
    "video_length_list_copy = copy.deepcopy(video_length_list[:len(thumbnail_list)])\n",
    "len(video_length_list_copy), len(video_length_list)"
   ]
  },
  {
   "cell_type": "markdown",
   "metadata": {},
   "source": [
    "### pandas 를 이용해 가져온 정보로 표 만들기"
   ]
  },
  {
   "cell_type": "code",
   "execution_count": null,
   "metadata": {
    "scrolled": true
   },
   "outputs": [],
   "source": [
    "import pandas as pd\n",
    "\n",
    "insert_data = pd.DataFrame({\n",
    "                    'thumbnail': thumbnail_list,\n",
    "                    'title' : title_list,\n",
    "                    'category': category_list,\n",
    "                    'view_count': view_count_list,\n",
    "                    'likes_count': likes_count_list,\n",
    "                    'dislikes_count':dislikes_count_list,\n",
    "                    'upload_date': upload_date_list,\n",
    "                    'video_length' : video_length_list_copy\n",
    "                    }) \n",
    "insert_data"
   ]
  },
  {
   "cell_type": "markdown",
   "metadata": {},
   "source": [
    "### 데이터 엑셀화"
   ]
  },
  {
   "cell_type": "code",
   "execution_count": 10,
   "metadata": {},
   "outputs": [],
   "source": [
    "import openpyxl\n",
    "insert_data.to_excel(\"조효진.xlsx\",encoding=\"utf8\")"
   ]
  }
 ],
 "metadata": {
  "kernelspec": {
   "display_name": "Python 3",
   "language": "python",
   "name": "python3"
  },
  "language_info": {
   "codemirror_mode": {
    "name": "ipython",
    "version": 3
   },
   "file_extension": ".py",
   "mimetype": "text/x-python",
   "name": "python",
   "nbconvert_exporter": "python",
   "pygments_lexer": "ipython3",
   "version": "3.7.4"
  }
 },
 "nbformat": 4,
 "nbformat_minor": 2
}
